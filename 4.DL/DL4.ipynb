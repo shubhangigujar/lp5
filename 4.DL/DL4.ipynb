{
 "cells": [
  {
   "cell_type": "code",
   "execution_count": null,
   "metadata": {
    "id": "AfYorkrEkOhL"
   },
   "outputs": [],
   "source": []
  },
  {
   "cell_type": "code",
   "execution_count": 1,
   "metadata": {
    "id": "Qj8LqIIIjWHj"
   },
   "outputs": [],
   "source": [
    "import numpy as np\n",
    "import pandas as pd\n",
    "import tensorflow as tf\n",
    "from sklearn.model_selection import train_test_split"
   ]
  },
  {
   "cell_type": "code",
   "execution_count": 2,
   "metadata": {
    "id": "i5w5mY2mjWJu"
   },
   "outputs": [],
   "source": [
    "# Step 1: Load the Data\n",
    "train_data = pd.read_csv('fashion-mnist_train.csv')\n",
    "test_data = pd.read_csv('fashion-mnist_test.csv')"
   ]
  },
  {
   "cell_type": "code",
   "execution_count": 3,
   "metadata": {
    "id": "j0zS-7SojWMP"
   },
   "outputs": [],
   "source": [
    "# Step 2: Preprocess the Data\n",
    "X_train = train_data.iloc[:, 1:].values.astype('float32') / 255.0  # Normalize pixel values\n",
    "y_train = train_data.iloc[:, 0].values.astype('int32')\n",
    "X_test = test_data.iloc[:, 1:].values.astype('float32') / 255.0\n",
    "y_test = test_data.iloc[:, 0].values.astype('int32')"
   ]
  },
  {
   "cell_type": "code",
   "execution_count": 4,
   "metadata": {
    "id": "VfB08LybjWOf"
   },
   "outputs": [
    {
     "name": "stderr",
     "output_type": "stream",
     "text": [
      "C:\\Users\\ACER\\AppData\\Local\\Programs\\Python\\Python39\\lib\\site-packages\\keras\\src\\layers\\core\\dense.py:86: UserWarning: Do not pass an `input_shape`/`input_dim` argument to a layer. When using Sequential models, prefer using an `Input(shape)` object as the first layer in the model instead.\n",
      "  super().__init__(activity_regularizer=activity_regularizer, **kwargs)\n"
     ]
    }
   ],
   "source": [
    "# Step 3: Build the Model\n",
    "model = tf.keras.Sequential([\n",
    "    tf.keras.layers.Dense(128, activation='relu', input_shape=(784,)),\n",
    "    tf.keras.layers.Dense(10, activation='softmax')\n",
    "])"
   ]
  },
  {
   "cell_type": "code",
   "execution_count": 5,
   "metadata": {
    "id": "E3AJ4oTmjWQ9"
   },
   "outputs": [],
   "source": [
    "# Step 4: Compile the Model\n",
    "model.compile(optimizer='adam',\n",
    "              loss='sparse_categorical_crossentropy',\n",
    "              metrics=['accuracy'])"
   ]
  },
  {
   "cell_type": "code",
   "execution_count": 6,
   "metadata": {
    "colab": {
     "base_uri": "https://localhost:8080/"
    },
    "id": "Lf-UvuDNjWTq",
    "outputId": "0458942c-b010-4c32-a204-085771a3ffa5"
   },
   "outputs": [
    {
     "name": "stdout",
     "output_type": "stream",
     "text": [
      "Epoch 1/10\n",
      "\u001b[1m375/375\u001b[0m \u001b[32m━━━━━━━━━━━━━━━━━━━━\u001b[0m\u001b[37m\u001b[0m \u001b[1m4s\u001b[0m 6ms/step - accuracy: 0.7348 - loss: 0.7848 - val_accuracy: 0.8436 - val_loss: 0.4641\n",
      "Epoch 2/10\n",
      "\u001b[1m375/375\u001b[0m \u001b[32m━━━━━━━━━━━━━━━━━━━━\u001b[0m\u001b[37m\u001b[0m \u001b[1m2s\u001b[0m 5ms/step - accuracy: 0.8490 - loss: 0.4330 - val_accuracy: 0.8580 - val_loss: 0.4046\n",
      "Epoch 3/10\n",
      "\u001b[1m375/375\u001b[0m \u001b[32m━━━━━━━━━━━━━━━━━━━━\u001b[0m\u001b[37m\u001b[0m \u001b[1m2s\u001b[0m 5ms/step - accuracy: 0.8668 - loss: 0.3785 - val_accuracy: 0.8599 - val_loss: 0.3958\n",
      "Epoch 4/10\n",
      "\u001b[1m375/375\u001b[0m \u001b[32m━━━━━━━━━━━━━━━━━━━━\u001b[0m\u001b[37m\u001b[0m \u001b[1m2s\u001b[0m 5ms/step - accuracy: 0.8733 - loss: 0.3522 - val_accuracy: 0.8673 - val_loss: 0.3784\n",
      "Epoch 5/10\n",
      "\u001b[1m375/375\u001b[0m \u001b[32m━━━━━━━━━━━━━━━━━━━━\u001b[0m\u001b[37m\u001b[0m \u001b[1m2s\u001b[0m 5ms/step - accuracy: 0.8811 - loss: 0.3341 - val_accuracy: 0.8692 - val_loss: 0.3676\n",
      "Epoch 6/10\n",
      "\u001b[1m375/375\u001b[0m \u001b[32m━━━━━━━━━━━━━━━━━━━━\u001b[0m\u001b[37m\u001b[0m \u001b[1m2s\u001b[0m 5ms/step - accuracy: 0.8854 - loss: 0.3212 - val_accuracy: 0.8755 - val_loss: 0.3510\n",
      "Epoch 7/10\n",
      "\u001b[1m375/375\u001b[0m \u001b[32m━━━━━━━━━━━━━━━━━━━━\u001b[0m\u001b[37m\u001b[0m \u001b[1m2s\u001b[0m 5ms/step - accuracy: 0.8891 - loss: 0.3081 - val_accuracy: 0.8819 - val_loss: 0.3370\n",
      "Epoch 8/10\n",
      "\u001b[1m375/375\u001b[0m \u001b[32m━━━━━━━━━━━━━━━━━━━━\u001b[0m\u001b[37m\u001b[0m \u001b[1m2s\u001b[0m 5ms/step - accuracy: 0.8952 - loss: 0.2866 - val_accuracy: 0.8802 - val_loss: 0.3402\n",
      "Epoch 9/10\n",
      "\u001b[1m375/375\u001b[0m \u001b[32m━━━━━━━━━━━━━━━━━━━━\u001b[0m\u001b[37m\u001b[0m \u001b[1m2s\u001b[0m 5ms/step - accuracy: 0.8993 - loss: 0.2777 - val_accuracy: 0.8789 - val_loss: 0.3461\n",
      "Epoch 10/10\n",
      "\u001b[1m375/375\u001b[0m \u001b[32m━━━━━━━━━━━━━━━━━━━━\u001b[0m\u001b[37m\u001b[0m \u001b[1m2s\u001b[0m 5ms/step - accuracy: 0.9017 - loss: 0.2720 - val_accuracy: 0.8823 - val_loss: 0.3369\n"
     ]
    }
   ],
   "source": [
    "# Step 5: Train the Model\n",
    "history = model.fit(X_train, y_train, epochs=10, batch_size=128, validation_split=0.2)\n"
   ]
  },
  {
   "cell_type": "code",
   "execution_count": 7,
   "metadata": {
    "colab": {
     "base_uri": "https://localhost:8080/"
    },
    "id": "bG_hu4_1jWV4",
    "outputId": "97a86320-fe33-4f7f-b189-151d4cd5f376"
   },
   "outputs": [
    {
     "name": "stdout",
     "output_type": "stream",
     "text": [
      "\u001b[1m313/313\u001b[0m \u001b[32m━━━━━━━━━━━━━━━━━━━━\u001b[0m\u001b[37m\u001b[0m \u001b[1m1s\u001b[0m 3ms/step - accuracy: 0.8795 - loss: 0.3243\n",
      "Test Accuracy: 0.8855000138282776\n"
     ]
    }
   ],
   "source": [
    "# Step 6: Evaluate the Model\n",
    "test_loss, test_accuracy = model.evaluate(X_test, y_test)\n",
    "print(f'Test Accuracy: {test_accuracy}')"
   ]
  },
  {
   "cell_type": "code",
   "execution_count": 8,
   "metadata": {
    "colab": {
     "base_uri": "https://localhost:8080/"
    },
    "id": "eIHjeb2kjWYp",
    "outputId": "59d2785a-fb2e-4200-b9d8-38b07cdf1a44"
   },
   "outputs": [
    {
     "name": "stdout",
     "output_type": "stream",
     "text": [
      "\u001b[1m313/313\u001b[0m \u001b[32m━━━━━━━━━━━━━━━━━━━━\u001b[0m\u001b[37m\u001b[0m \u001b[1m1s\u001b[0m 3ms/step\n"
     ]
    }
   ],
   "source": [
    "# Step 7: Make Predictions\n",
    "predictions = model.predict(X_test)\n"
   ]
  },
  {
   "cell_type": "code",
   "execution_count": 9,
   "metadata": {
    "id": "fWfdAChSjWbI"
   },
   "outputs": [
    {
     "data": {
      "text/plain": [
       "array([[9.10167634e-01, 1.46427837e-07, 6.57926314e-04, ...,\n",
       "        7.72146995e-13, 8.25729694e-06, 1.17525144e-13],\n",
       "       [1.25992565e-05, 9.99976158e-01, 1.70734018e-06, ...,\n",
       "        1.54575769e-10, 1.84673166e-08, 3.12634252e-10],\n",
       "       [2.43237633e-02, 7.69232749e-04, 5.69593966e-01, ...,\n",
       "        3.89891693e-06, 4.69580153e-03, 2.18464411e-05],\n",
       "       ...,\n",
       "       [9.40144976e-11, 2.93779378e-13, 1.29051547e-10, ...,\n",
       "        6.36316520e-13, 1.00000000e+00, 1.50977442e-16],\n",
       "       [1.90522894e-02, 1.63983249e-09, 2.06431444e-03, ...,\n",
       "        1.50589097e-10, 7.83512235e-01, 5.70367642e-10],\n",
       "       [4.65301983e-03, 6.12786889e-01, 2.48700157e-01, ...,\n",
       "        7.03796309e-12, 5.08415047e-04, 5.40548051e-10]], dtype=float32)"
      ]
     },
     "execution_count": 9,
     "metadata": {},
     "output_type": "execute_result"
    }
   ],
   "source": [
    "predictions\n"
   ]
  },
  {
   "cell_type": "code",
   "execution_count": 10,
   "metadata": {
    "colab": {
     "base_uri": "https://localhost:8080/"
    },
    "id": "7wMQVBQRjWd1",
    "outputId": "967bd5f4-0a48-448a-830c-2361e1894479"
   },
   "outputs": [
    {
     "name": "stdout",
     "output_type": "stream",
     "text": [
      "Original Label: 3\n",
      "Predicted Label: 3\n"
     ]
    }
   ],
   "source": [
    "# Step 8: Provide Input for Prediction\n",
    "index = 10  # Index of the sample to be predicted\n",
    "input_sample = X_test[index:index+1]  # Select a single sample for prediction\n",
    "\n",
    "# Original and Predicted Values\n",
    "original_label = y_test[index]\n",
    "predicted_label = np.argmax(predictions[index])\n",
    "\n",
    "print(f'Original Label: {original_label}')\n",
    "print(f'Predicted Label: {predicted_label}')"
   ]
  },
  {
   "cell_type": "code",
   "execution_count": null,
   "metadata": {
    "id": "omMpdrtBjWgf"
   },
   "outputs": [],
   "source": []
  }
 ],
 "metadata": {
  "colab": {
   "provenance": []
  },
  "kernelspec": {
   "display_name": "Python 3 (ipykernel)",
   "language": "python",
   "name": "python3"
  },
  "language_info": {
   "codemirror_mode": {
    "name": "ipython",
    "version": 3
   },
   "file_extension": ".py",
   "mimetype": "text/x-python",
   "name": "python",
   "nbconvert_exporter": "python",
   "pygments_lexer": "ipython3",
   "version": "3.11.5"
  }
 },
 "nbformat": 4,
 "nbformat_minor": 4
}
